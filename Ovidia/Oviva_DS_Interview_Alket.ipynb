{
  "nbformat": 4,
  "nbformat_minor": 0,
  "metadata": {
    "colab": {
      "name": "Oviva_DS_Interview_Alket.ipynb",
      "provenance": [],
      "collapsed_sections": []
    },
    "kernelspec": {
      "name": "python3",
      "display_name": "Python 3"
    }
  },
  "cells": [
    {
      "cell_type": "code",
      "metadata": {
        "id": "7lxg7G-VLZ9x"
      },
      "source": [
        "import pandas as pd\n",
        "import numpy as np\n",
        "import io\n",
        "import requests\n",
        "import matplotlib as mpl\n",
        "import matplotlib.pyplot as plt\n",
        "from sklearn.model_selection import train_test_split\n",
        "from sklearn.model_selection import KFold \n",
        "from sklearn.linear_model import LinearRegression\n",
        "from sklearn.metrics import mean_squared_error\n",
        "from sklearn.impute import SimpleImputer\n",
        "from sklearn.preprocessing import OrdinalEncoder"
      ],
      "execution_count": null,
      "outputs": []
    },
    {
      "cell_type": "markdown",
      "metadata": {
        "id": "4iTta8M9LeF1"
      },
      "source": [
        "\n",
        "1.   Build a model to predict the median housing price\n",
        "\n",
        "\n",
        "\n",
        "\n",
        "\n",
        "\n"
      ]
    },
    {
      "cell_type": "code",
      "metadata": {
        "id": "_iId9axSPUq7"
      },
      "source": [
        "DATA_URL = \"https://raw.githubusercontent.com/ageron/handson-ml/master/datasets/housing/housing.csv\""
      ],
      "execution_count": null,
      "outputs": []
    },
    {
      "cell_type": "markdown",
      "metadata": {
        "id": "JY0JkRudfQiQ"
      },
      "source": [
        "**The main code starts here**\n",
        "\n",
        "\n",
        "1.   Load the housing data\n",
        "\n",
        "2.   Split it into train and test\n",
        "\n",
        "3.  Create a Linear Regression Model using the train data\n",
        "\n",
        "4.  Evaluate the Model on the test data\n",
        "\n",
        "\n"
      ]
    },
    {
      "cell_type": "code",
      "metadata": {
        "id": "0DqbKeO-ehrT"
      },
      "source": [
        "def get_housing_data(URL):\n",
        "  \"\"\"\n",
        "  Load the Housing Data from the passed URL\n",
        "  \"\"\"\n",
        "  housing_data = \n",
        "  \n",
        "  return housing_data"
      ],
      "execution_count": null,
      "outputs": []
    },
    {
      "cell_type": "code",
      "metadata": {
        "id": "d8-FZV6zee1e"
      },
      "source": [
        "housing_data = get_housing_data(DATA_URL)\n"
      ],
      "execution_count": null,
      "outputs": []
    },
    {
      "cell_type": "code",
      "metadata": {
        "id": "cL6w07AtewMd"
      },
      "source": [
        "def preprocess_data(data):\n",
        "  \"\"\"\n",
        "  Preprocess data \n",
        "\n",
        "  \"\"\"\n",
        "  \n",
        "  \n",
        "  return data"
      ],
      "execution_count": null,
      "outputs": []
    },
    {
      "cell_type": "code",
      "metadata": {
        "id": "CobYgrPG4YH1"
      },
      "source": [
        "preprocess_data(housing_data)"
      ],
      "execution_count": null,
      "outputs": []
    },
    {
      "cell_type": "code",
      "metadata": {
        "id": "gDJ_1iG4f9kQ"
      },
      "source": [
        "def split_test_and_train(housing_data):\n",
        "  \"\"\"\n",
        "  Return the train and test sets\n",
        "  \n",
        "  \"\"\"\n",
        "  train_set, test_set = train_test_split(housing_data, test_size= , random_state= )\n",
        "  return train_set, test_set\n"
      ],
      "execution_count": null,
      "outputs": []
    },
    {
      "cell_type": "code",
      "metadata": {
        "id": "eGDQt51k4Vbv"
      },
      "source": [
        "train_set, test_set = split_test_and_train(housing_data)\n"
      ],
      "execution_count": null,
      "outputs": []
    },
    {
      "cell_type": "code",
      "metadata": {
        "id": "_KoGUZAee70U"
      },
      "source": [
        "def get_regression_data_and_labels(data_set):\n",
        "  \"\"\"\n",
        "  Give the data return the label and feature/data set\n",
        "  \n",
        "  \"\"\"\n",
        "  \n",
        "  return data, labels"
      ],
      "execution_count": null,
      "outputs": []
    },
    {
      "cell_type": "code",
      "metadata": {
        "id": "TI1Tv64Cf_Oe"
      },
      "source": [
        "training_data, training_labels = get_regression_data_and_labels(train_set)\n",
        "testing_data, testing_labels = get_regression_data_and_labels(test_set)\n",
        "\n"
      ],
      "execution_count": null,
      "outputs": []
    },
    {
      "cell_type": "code",
      "metadata": {
        "id": "2jgtcjbOe-qx"
      },
      "source": [
        "def get_regression_model( ... ):\n",
        "  lin_reg = LinearRegression()\n",
        "   \n",
        "  \n",
        "  return lin_reg"
      ],
      "execution_count": null,
      "outputs": []
    },
    {
      "cell_type": "code",
      "metadata": {
        "id": "QUeFlcYrgAeR"
      },
      "source": [
        "linear_regressor = get_regression_model()"
      ],
      "execution_count": null,
      "outputs": []
    },
    {
      "cell_type": "code",
      "metadata": {
        "id": "NCzr1WFBTJw9"
      },
      "source": [
        "def get_predictions(lin_regressor, testing_data):\n",
        "  \n",
        "  \n",
        "  return"
      ],
      "execution_count": null,
      "outputs": []
    },
    {
      "cell_type": "code",
      "metadata": {
        "id": "vD7pfVZ8fFKI"
      },
      "source": [
        "prediction = get_predictions()"
      ],
      "execution_count": null,
      "outputs": []
    },
    {
      "cell_type": "code",
      "metadata": {
        "id": "JuyH9ecUT6Y9"
      },
      "source": [
        "\n",
        "def evaluate_regression_model(... , ...):\n",
        "  \n",
        "  return evaluation"
      ],
      "execution_count": null,
      "outputs": []
    },
    {
      "cell_type": "code",
      "metadata": {
        "id": "tUJefLqbT9xc"
      },
      "source": [
        "evaluation = evaluate_regression_model()"
      ],
      "execution_count": null,
      "outputs": []
    },
    {
      "cell_type": "code",
      "metadata": {
        "id": "mDewQDZvbeYw"
      },
      "source": [
        ""
      ],
      "execution_count": null,
      "outputs": []
    }
  ]
}